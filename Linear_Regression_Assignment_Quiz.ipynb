{
  "cells": [
    {
      "cell_type": "markdown",
      "metadata": {
        "id": "view-in-github",
        "colab_type": "text"
      },
      "source": [
        "<a href=\"https://colab.research.google.com/github/Kaushalshah9/Covid19-Analysis/blob/main/Linear_Regression_Assignment_Quiz.ipynb\" target=\"_parent\"><img src=\"https://colab.research.google.com/assets/colab-badge.svg\" alt=\"Open In Colab\"/></a>"
      ]
    },
    {
      "cell_type": "code",
      "execution_count": null,
      "id": "e1ff24a8",
      "metadata": {
        "id": "e1ff24a8"
      },
      "outputs": [],
      "source": [
        "import os\n",
        "import numpy as np\n",
        "import pandas as pd\n",
        "import matplotlib.pyplot as plt"
      ]
    },
    {
      "cell_type": "code",
      "execution_count": null,
      "id": "a263e38c",
      "metadata": {
        "id": "a263e38c",
        "outputId": "78392945-8305-4a30-99ab-fb2032fbeb5a"
      },
      "outputs": [
        {
          "name": "stdout",
          "output_type": "stream",
          "text": [
            "data.csv ------------------------------------------------------------\n",
            "(30, 2)\n",
            "   YearsExperience   Salary\n",
            "0              1.1  39343.0\n",
            "1              1.3  46205.0\n",
            "2              1.5  37731.0\n",
            "3              2.0  43525.0\n",
            "4              2.2  39891.0\n",
            "Diamond.csv ------------------------------------------------------------\n",
            "(53940, 11)\n",
            "   Unnamed: 0  carat      cut color clarity  depth  table  price     x     y  \\\n",
            "0           1   0.23    Ideal     E     SI2   61.5   55.0    326  3.95  3.98   \n",
            "1           2   0.21  Premium     E     SI1   59.8   61.0    326  3.89  3.84   \n",
            "2           3   0.23     Good     E     VS1   56.9   65.0    327  4.05  4.07   \n",
            "3           4   0.29  Premium     I     VS2   62.4   58.0    334  4.20  4.23   \n",
            "4           5   0.31     Good     J     SI2   63.3   58.0    335  4.34  4.35   \n",
            "\n",
            "      z  \n",
            "0  2.43  \n",
            "1  2.31  \n",
            "2  2.31  \n",
            "3  2.63  \n",
            "4  2.75  \n",
            "housing.csv ------------------------------------------------------------\n",
            "(21613, 21)\n",
            "           id             date   price  bedrooms  bathrooms  sqft_living  \\\n",
            "0  7129300520  20141013T000000  221900         3       1.00         1180   \n",
            "1  6414100192  20141209T000000  538000         3       2.25         2570   \n",
            "2  5631500400  20150225T000000  180000         2       1.00          770   \n",
            "3  2487200875  20141209T000000  604000         4       3.00         1960   \n",
            "4  1954400510  20150218T000000  510000         3       2.00         1680   \n",
            "\n",
            "   sqft_lot  floors  waterfront  view  ...  grade  sqft_above  sqft_basement  \\\n",
            "0      5650     1.0           0     0  ...      7        1180              0   \n",
            "1      7242     2.0           0     0  ...      7        2170            400   \n",
            "2     10000     1.0           0     0  ...      6         770              0   \n",
            "3      5000     1.0           0     0  ...      7        1050            910   \n",
            "4      8080     1.0           0     0  ...      8        1680              0   \n",
            "\n",
            "   yr_built  yr_renovated  zipcode      lat     long  sqft_living15  \\\n",
            "0      1955             0    98178  47.5112 -122.257           1340   \n",
            "1      1951          1991    98125  47.7210 -122.319           1690   \n",
            "2      1933             0    98028  47.7379 -122.233           2720   \n",
            "3      1965             0    98136  47.5208 -122.393           1360   \n",
            "4      1987             0    98074  47.6168 -122.045           1800   \n",
            "\n",
            "   sqft_lot15  \n",
            "0        5650  \n",
            "1        7639  \n",
            "2        8062  \n",
            "3        5000  \n",
            "4        7503  \n",
            "\n",
            "[5 rows x 21 columns]\n",
            "ToyotaCorolla.csv ------------------------------------------------------------\n",
            "(1436, 11)\n",
            "   Unnamed: 0  Price   Age     KM FuelType  HP  MetColor  Automatic    CC  \\\n",
            "0           0  13500  23.0  46986   Diesel  90       1.0          0  2000   \n",
            "1           1  13750  23.0  72937   Diesel  90       1.0          0  2000   \n",
            "2           2  13950  24.0  41711   Diesel  90       NaN          0  2000   \n",
            "3           3  14950  26.0  48000   Diesel  90       0.0          0  2000   \n",
            "4           4  13750  30.0  38500   Diesel  90       0.0          0  2000   \n",
            "\n",
            "   Doors  Weight  \n",
            "0      3    1165  \n",
            "1      3    1165  \n",
            "2      3    1165  \n",
            "3      3    1165  \n",
            "4      3    1170  \n"
          ]
        }
      ],
      "source": [
        "folder='Linear Regression Quiz'\n",
        "for x in os.listdir(folder):\n",
        "    df=pd.read_csv(os.path.join(folder,x))\n",
        "    print(x,\"--\"*30)\n",
        "    print(df.shape)\n",
        "    print(df.head(5))"
      ]
    },
    {
      "cell_type": "code",
      "execution_count": null,
      "id": "8c11cc62",
      "metadata": {
        "id": "8c11cc62",
        "outputId": "0e137467-44d9-4f62-e31b-72f194228d4d"
      },
      "outputs": [
        {
          "name": "stdout",
          "output_type": "stream",
          "text": [
            "(30, 2)\n"
          ]
        },
        {
          "data": {
            "text/html": [
              "<div>\n",
              "<style scoped>\n",
              "    .dataframe tbody tr th:only-of-type {\n",
              "        vertical-align: middle;\n",
              "    }\n",
              "\n",
              "    .dataframe tbody tr th {\n",
              "        vertical-align: top;\n",
              "    }\n",
              "\n",
              "    .dataframe thead th {\n",
              "        text-align: right;\n",
              "    }\n",
              "</style>\n",
              "<table border=\"1\" class=\"dataframe\">\n",
              "  <thead>\n",
              "    <tr style=\"text-align: right;\">\n",
              "      <th></th>\n",
              "      <th>YearsExperience</th>\n",
              "      <th>Salary</th>\n",
              "    </tr>\n",
              "  </thead>\n",
              "  <tbody>\n",
              "    <tr>\n",
              "      <th>0</th>\n",
              "      <td>1.1</td>\n",
              "      <td>39343.0</td>\n",
              "    </tr>\n",
              "    <tr>\n",
              "      <th>1</th>\n",
              "      <td>1.3</td>\n",
              "      <td>46205.0</td>\n",
              "    </tr>\n",
              "    <tr>\n",
              "      <th>2</th>\n",
              "      <td>1.5</td>\n",
              "      <td>37731.0</td>\n",
              "    </tr>\n",
              "    <tr>\n",
              "      <th>3</th>\n",
              "      <td>2.0</td>\n",
              "      <td>43525.0</td>\n",
              "    </tr>\n",
              "    <tr>\n",
              "      <th>4</th>\n",
              "      <td>2.2</td>\n",
              "      <td>39891.0</td>\n",
              "    </tr>\n",
              "  </tbody>\n",
              "</table>\n",
              "</div>"
            ],
            "text/plain": [
              "   YearsExperience   Salary\n",
              "0              1.1  39343.0\n",
              "1              1.3  46205.0\n",
              "2              1.5  37731.0\n",
              "3              2.0  43525.0\n",
              "4              2.2  39891.0"
            ]
          },
          "execution_count": 14,
          "metadata": {},
          "output_type": "execute_result"
        }
      ],
      "source": [
        "emp = pd.read_csv(os.path.join(folder,'data.csv '))\n",
        "print(emp.shape)\n",
        "emp.head(5)"
      ]
    },
    {
      "cell_type": "markdown",
      "id": "e9264547",
      "metadata": {
        "id": "e9264547"
      },
      "source": [
        "##  1) How many employees having more than 5 years experience are earning more than 60000?\n",
        "\n",
        "    41\n",
        "    14 #answer\n",
        "    12\n",
        "    21\n"
      ]
    },
    {
      "cell_type": "code",
      "execution_count": null,
      "id": "b2a3a210",
      "metadata": {
        "id": "b2a3a210",
        "outputId": "925f0556-b529-4a75-c462-413613d1c0c6"
      },
      "outputs": [
        {
          "data": {
            "text/plain": [
              "YearsExperience    14\n",
              "Salary             14\n",
              "dtype: int64"
            ]
          },
          "execution_count": 15,
          "metadata": {},
          "output_type": "execute_result"
        }
      ],
      "source": [
        "emp[(emp.YearsExperience>5) & (emp.Salary>60000)].count()"
      ]
    },
    {
      "cell_type": "markdown",
      "id": "211375f7",
      "metadata": {
        "id": "211375f7"
      },
      "source": [
        "##  2) How many employees are earning between 50000-80000?\n",
        "\n",
        "    12 #answer\n",
        "    13\n",
        "    10\n",
        "    14\n"
      ]
    },
    {
      "cell_type": "code",
      "execution_count": null,
      "id": "940efb0e",
      "metadata": {
        "id": "940efb0e",
        "outputId": "29551043-fc4a-4725-f5ba-80b03b1a2f21"
      },
      "outputs": [
        {
          "data": {
            "text/plain": [
              "12"
            ]
          },
          "execution_count": 20,
          "metadata": {},
          "output_type": "execute_result"
        }
      ],
      "source": [
        "#df['two'].between(-0.5, 0.5, inclusive=False)\n",
        "emp.Salary.between(50000,80000).sum()"
      ]
    },
    {
      "cell_type": "markdown",
      "id": "606775a2",
      "metadata": {
        "id": "606775a2"
      },
      "source": [
        "## 3) The scatter plot in the following image shows the relationship between the “YearsExperience” and “Salary” columns. What possible inferences can be drawn from the plot?\n",
        "![Image.png](attachment:Image.png)\n",
        "\n",
        "\n",
        "- The plot shows a negative correlation between the “YearsExperience” and “Salary” column.\n",
        "- The plot shows a positive correlation between the ‘YearsExperience” and “Salary” column. #answer\n",
        "- The plot shows no significant relationship between the “YearExperience” and “Salary” column.\n",
        "- None of the above.\n"
      ]
    },
    {
      "cell_type": "code",
      "execution_count": null,
      "id": "1132fc0a",
      "metadata": {
        "id": "1132fc0a",
        "outputId": "5897cf53-a6b4-4764-e04b-5722fc6ac994"
      },
      "outputs": [
        {
          "data": {
            "text/html": [
              "<div>\n",
              "<style scoped>\n",
              "    .dataframe tbody tr th:only-of-type {\n",
              "        vertical-align: middle;\n",
              "    }\n",
              "\n",
              "    .dataframe tbody tr th {\n",
              "        vertical-align: top;\n",
              "    }\n",
              "\n",
              "    .dataframe thead th {\n",
              "        text-align: right;\n",
              "    }\n",
              "</style>\n",
              "<table border=\"1\" class=\"dataframe\">\n",
              "  <thead>\n",
              "    <tr style=\"text-align: right;\">\n",
              "      <th></th>\n",
              "      <th>YearsExperience</th>\n",
              "      <th>Salary</th>\n",
              "    </tr>\n",
              "  </thead>\n",
              "  <tbody>\n",
              "    <tr>\n",
              "      <th>YearsExperience</th>\n",
              "      <td>1.000000</td>\n",
              "      <td>0.978242</td>\n",
              "    </tr>\n",
              "    <tr>\n",
              "      <th>Salary</th>\n",
              "      <td>0.978242</td>\n",
              "      <td>1.000000</td>\n",
              "    </tr>\n",
              "  </tbody>\n",
              "</table>\n",
              "</div>"
            ],
            "text/plain": [
              "                 YearsExperience    Salary\n",
              "YearsExperience         1.000000  0.978242\n",
              "Salary                  0.978242  1.000000"
            ]
          },
          "execution_count": 21,
          "metadata": {},
          "output_type": "execute_result"
        }
      ],
      "source": [
        "emp.corr()"
      ]
    },
    {
      "cell_type": "markdown",
      "id": "4605c53a",
      "metadata": {
        "id": "4605c53a"
      },
      "source": [
        "## 4) The distribution plot of the column “YearsExperience” is shown in the image below, what possible inferences can be drawn from the plot.\n",
        "\n",
        "![image-2-1.png](attachment:image-2-1.png)\n",
        "\n",
        "- “YearsExperience” data is positively skewed. #answer\n",
        "- None of the above.\n",
        "- “YearsExperience” data is negatively skewed.\n",
        "- “YearsExperience” data is normally distributed.\n"
      ]
    },
    {
      "cell_type": "markdown",
      "id": "d9a5c857",
      "metadata": {
        "id": "d9a5c857"
      },
      "source": [
        "## 5) What all inferences can be drawn from the table shown below:\n",
        "![image-3-1.png](attachment:image-3-1.png)\n",
        "\n",
        "- The range of the “YearsExperience” and “Salary” data is (9.4 , 84660 ) #answer - find out\n",
        "- The range of the “YearsExperience” and “Salary” data is (7.7 ,100544)\n",
        "- The range of the “YearsExperience” and “Salary” data is (10.5, 122391)\n",
        "- The range of the “YearsExperience” and “Salary” data is (4.7 , 65237 )\n"
      ]
    },
    {
      "cell_type": "code",
      "execution_count": null,
      "id": "c725b301",
      "metadata": {
        "id": "c725b301",
        "outputId": "e315fe18-4798-4aca-d7f4-23c02d679a06"
      },
      "outputs": [
        {
          "name": "stdout",
          "output_type": "stream",
          "text": [
            "YearsExperience 4.5\n",
            "range 13.5\n",
            "------------------------------------------------------------\n",
            "Salary 43824.0\n",
            "range 131472.0\n",
            "------------------------------------------------------------\n"
          ]
        }
      ],
      "source": [
        "for z in emp:\n",
        "    q1=emp[z].quantile(0.25)\n",
        "    q3=emp[z].quantile(0.75)\n",
        "    iqr = q3-q1\n",
        "    range1=q3+(1*iqr)-(q1-(1*iqr))\n",
        "    print(z,iqr)\n",
        "    print(\"range\",range1)\n",
        "    print(\"--\"*30)"
      ]
    },
    {
      "cell_type": "markdown",
      "id": "fe69ea10",
      "metadata": {
        "id": "fe69ea10"
      },
      "source": [
        "##  6) To split the dataset into training and testing data, if we use the following code.\n",
        "X = data['YearsExperience']\n",
        "y = data['Salary']\n",
        "X_train, X_test, y_train, y_test = train_test_split(X, y, test_size=0.2, random_state=0)\n",
        "\n",
        "What does it mean when we write the test size as 0.2?\n",
        "\n",
        "-    The testing data will have 80% samples from the total population.\n",
        "-    The training data will consist of 80% of the samples from the total population. #answer\n",
        "-    The testing data will have 2% samples from the total population.\n",
        "-    The testing data will be 2% accurate.\n"
      ]
    },
    {
      "cell_type": "code",
      "execution_count": null,
      "id": "bc29a0a2",
      "metadata": {
        "id": "bc29a0a2",
        "outputId": "058ee764-506d-40ab-fd8b-f102b3143163"
      },
      "outputs": [
        {
          "name": "stdout",
          "output_type": "stream",
          "text": [
            "0.8 0.2\n"
          ]
        }
      ],
      "source": [
        "from sklearn.model_selection import train_test_split\n",
        "X = emp['YearsExperience']\n",
        "y = emp['Salary']\n",
        "X_train, X_test, y_train, y_test = train_test_split(X, y, test_size=0.2, random_state=0)\n",
        "print(len(X_train)/len(y), len(y_test)/len(y))"
      ]
    },
    {
      "cell_type": "code",
      "execution_count": null,
      "id": "8585f59d",
      "metadata": {
        "id": "8585f59d"
      },
      "outputs": [],
      "source": [
        "from sklearn.model_selection import train_test_split"
      ]
    },
    {
      "cell_type": "markdown",
      "id": "bb50637a",
      "metadata": {
        "id": "bb50637a"
      },
      "source": [
        "##  7) In the above example code, we have taken the random state as 0, if we change the random state as 42, what does it mean for our training and testing data?\n",
        "\n",
        "    The shape of the training data will become (42,2)\n",
        "    The random state does not have any effect on the shape of the data. #answer\n",
        "    The random state will increase the efficiency of the model by 42%\n",
        "    The shape of the training data will become (42,)\n"
      ]
    },
    {
      "cell_type": "markdown",
      "id": "3033e52d",
      "metadata": {
        "id": "3033e52d"
      },
      "source": [
        "##  8) If the r2 score calculated in the above example is 0.98 , change the sample size of the training and testing set in the ratio 60:40, and build a linear regression model again. After plotting the best fit line on the test data, calculate the r2_score for the new model.\n",
        "\n",
        "    0.50- 0.60\n",
        "    0.98-1.0\n",
        "    1.0\n",
        "    0.95-0.97 #answer\n"
      ]
    },
    {
      "cell_type": "code",
      "execution_count": null,
      "id": "692dd3f2",
      "metadata": {
        "id": "692dd3f2",
        "outputId": "5a1f6a4d-17ef-4773-bd52-bdfb8b0245fa"
      },
      "outputs": [
        {
          "name": "stdout",
          "output_type": "stream",
          "text": [
            "0.6 0.4\n"
          ]
        }
      ],
      "source": [
        "X_train, X_test, y_train, y_test = train_test_split(X, y, test_size=0.4, random_state=0)\n",
        "print(len(X_train)/len(y), len(y_test)/len(y))\n"
      ]
    },
    {
      "cell_type": "code",
      "execution_count": null,
      "id": "7e984376",
      "metadata": {
        "id": "7e984376"
      },
      "outputs": [],
      "source": [
        "from sklearn.linear_model import LinearRegression\n",
        "lr = LinearRegression()"
      ]
    },
    {
      "cell_type": "code",
      "execution_count": null,
      "id": "72df0cd8",
      "metadata": {
        "id": "72df0cd8",
        "outputId": "656c091c-4954-47c5-d49d-d03375d8ab3f"
      },
      "outputs": [
        {
          "data": {
            "text/html": [
              "<style>#sk-container-id-1 {color: black;}#sk-container-id-1 pre{padding: 0;}#sk-container-id-1 div.sk-toggleable {background-color: white;}#sk-container-id-1 label.sk-toggleable__label {cursor: pointer;display: block;width: 100%;margin-bottom: 0;padding: 0.3em;box-sizing: border-box;text-align: center;}#sk-container-id-1 label.sk-toggleable__label-arrow:before {content: \"▸\";float: left;margin-right: 0.25em;color: #696969;}#sk-container-id-1 label.sk-toggleable__label-arrow:hover:before {color: black;}#sk-container-id-1 div.sk-estimator:hover label.sk-toggleable__label-arrow:before {color: black;}#sk-container-id-1 div.sk-toggleable__content {max-height: 0;max-width: 0;overflow: hidden;text-align: left;background-color: #f0f8ff;}#sk-container-id-1 div.sk-toggleable__content pre {margin: 0.2em;color: black;border-radius: 0.25em;background-color: #f0f8ff;}#sk-container-id-1 input.sk-toggleable__control:checked~div.sk-toggleable__content {max-height: 200px;max-width: 100%;overflow: auto;}#sk-container-id-1 input.sk-toggleable__control:checked~label.sk-toggleable__label-arrow:before {content: \"▾\";}#sk-container-id-1 div.sk-estimator input.sk-toggleable__control:checked~label.sk-toggleable__label {background-color: #d4ebff;}#sk-container-id-1 div.sk-label input.sk-toggleable__control:checked~label.sk-toggleable__label {background-color: #d4ebff;}#sk-container-id-1 input.sk-hidden--visually {border: 0;clip: rect(1px 1px 1px 1px);clip: rect(1px, 1px, 1px, 1px);height: 1px;margin: -1px;overflow: hidden;padding: 0;position: absolute;width: 1px;}#sk-container-id-1 div.sk-estimator {font-family: monospace;background-color: #f0f8ff;border: 1px dotted black;border-radius: 0.25em;box-sizing: border-box;margin-bottom: 0.5em;}#sk-container-id-1 div.sk-estimator:hover {background-color: #d4ebff;}#sk-container-id-1 div.sk-parallel-item::after {content: \"\";width: 100%;border-bottom: 1px solid gray;flex-grow: 1;}#sk-container-id-1 div.sk-label:hover label.sk-toggleable__label {background-color: #d4ebff;}#sk-container-id-1 div.sk-serial::before {content: \"\";position: absolute;border-left: 1px solid gray;box-sizing: border-box;top: 0;bottom: 0;left: 50%;z-index: 0;}#sk-container-id-1 div.sk-serial {display: flex;flex-direction: column;align-items: center;background-color: white;padding-right: 0.2em;padding-left: 0.2em;position: relative;}#sk-container-id-1 div.sk-item {position: relative;z-index: 1;}#sk-container-id-1 div.sk-parallel {display: flex;align-items: stretch;justify-content: center;background-color: white;position: relative;}#sk-container-id-1 div.sk-item::before, #sk-container-id-1 div.sk-parallel-item::before {content: \"\";position: absolute;border-left: 1px solid gray;box-sizing: border-box;top: 0;bottom: 0;left: 50%;z-index: -1;}#sk-container-id-1 div.sk-parallel-item {display: flex;flex-direction: column;z-index: 1;position: relative;background-color: white;}#sk-container-id-1 div.sk-parallel-item:first-child::after {align-self: flex-end;width: 50%;}#sk-container-id-1 div.sk-parallel-item:last-child::after {align-self: flex-start;width: 50%;}#sk-container-id-1 div.sk-parallel-item:only-child::after {width: 0;}#sk-container-id-1 div.sk-dashed-wrapped {border: 1px dashed gray;margin: 0 0.4em 0.5em 0.4em;box-sizing: border-box;padding-bottom: 0.4em;background-color: white;}#sk-container-id-1 div.sk-label label {font-family: monospace;font-weight: bold;display: inline-block;line-height: 1.2em;}#sk-container-id-1 div.sk-label-container {text-align: center;}#sk-container-id-1 div.sk-container {/* jupyter's `normalize.less` sets `[hidden] { display: none; }` but bootstrap.min.css set `[hidden] { display: none !important; }` so we also need the `!important` here to be able to override the default hidden behavior on the sphinx rendered scikit-learn.org. See: https://github.com/scikit-learn/scikit-learn/issues/21755 */display: inline-block !important;position: relative;}#sk-container-id-1 div.sk-text-repr-fallback {display: none;}</style><div id=\"sk-container-id-1\" class=\"sk-top-container\"><div class=\"sk-text-repr-fallback\"><pre>LinearRegression()</pre><b>In a Jupyter environment, please rerun this cell to show the HTML representation or trust the notebook. <br />On GitHub, the HTML representation is unable to render, please try loading this page with nbviewer.org.</b></div><div class=\"sk-container\" hidden><div class=\"sk-item\"><div class=\"sk-estimator sk-toggleable\"><input class=\"sk-toggleable__control sk-hidden--visually\" id=\"sk-estimator-id-1\" type=\"checkbox\" checked><label for=\"sk-estimator-id-1\" class=\"sk-toggleable__label sk-toggleable__label-arrow\">LinearRegression</label><div class=\"sk-toggleable__content\"><pre>LinearRegression()</pre></div></div></div></div></div>"
            ],
            "text/plain": [
              "LinearRegression()"
            ]
          },
          "execution_count": 69,
          "metadata": {},
          "output_type": "execute_result"
        }
      ],
      "source": [
        "lr.fit(X_train.values.reshape(-1,1),y_train)"
      ]
    },
    {
      "cell_type": "code",
      "execution_count": null,
      "id": "a531ef1c",
      "metadata": {
        "id": "a531ef1c",
        "outputId": "bf489404-303d-47c5-bcec-5b595b0d9da4"
      },
      "outputs": [
        {
          "data": {
            "text/plain": [
              "0.9649865387543467"
            ]
          },
          "execution_count": 72,
          "metadata": {},
          "output_type": "execute_result"
        }
      ],
      "source": [
        "from sklearn.metrics import r2_score\n",
        "ypred=lr.predict(X_test.values.reshape(-1,1))\n",
        "r2_score(ypred,y_test)"
      ]
    },
    {
      "cell_type": "markdown",
      "id": "4e84808e",
      "metadata": {
        "id": "4e84808e"
      },
      "source": [
        "##  9) If while fitting the model with training and testing data, you get the following error ValueError: Expected 2D array, got 1D array instead: What could be the issue with the data, and how can you solve it?\n",
        "\n",
        "    Reshape the data to two arrays of 1-D each.\n",
        "    None of the above\n",
        "    Both 1 and 2\n",
        "    Reshape the data to a two dimensional array #answer\n"
      ]
    },
    {
      "cell_type": "markdown",
      "id": "f64d971a",
      "metadata": {
        "id": "f64d971a"
      },
      "source": [
        "##  10) The exercise after this contains questions that are based on the housing dataset. How many houses have a waterfront?\n",
        "\n",
        "    173\n",
        "    21000\n",
        "    21450\n",
        "    163 #answer\n",
        ""
      ]
    },
    {
      "cell_type": "code",
      "execution_count": null,
      "id": "1e92af65",
      "metadata": {
        "id": "1e92af65",
        "outputId": "4a712f0c-c980-46ab-870b-6fed19cf0cbe"
      },
      "outputs": [
        {
          "name": "stdout",
          "output_type": "stream",
          "text": [
            "(21613, 21)\n"
          ]
        },
        {
          "data": {
            "text/html": [
              "<div>\n",
              "<style scoped>\n",
              "    .dataframe tbody tr th:only-of-type {\n",
              "        vertical-align: middle;\n",
              "    }\n",
              "\n",
              "    .dataframe tbody tr th {\n",
              "        vertical-align: top;\n",
              "    }\n",
              "\n",
              "    .dataframe thead th {\n",
              "        text-align: right;\n",
              "    }\n",
              "</style>\n",
              "<table border=\"1\" class=\"dataframe\">\n",
              "  <thead>\n",
              "    <tr style=\"text-align: right;\">\n",
              "      <th></th>\n",
              "      <th>id</th>\n",
              "      <th>date</th>\n",
              "      <th>price</th>\n",
              "      <th>bedrooms</th>\n",
              "      <th>bathrooms</th>\n",
              "      <th>sqft_living</th>\n",
              "      <th>sqft_lot</th>\n",
              "      <th>floors</th>\n",
              "      <th>waterfront</th>\n",
              "      <th>view</th>\n",
              "      <th>...</th>\n",
              "      <th>grade</th>\n",
              "      <th>sqft_above</th>\n",
              "      <th>sqft_basement</th>\n",
              "      <th>yr_built</th>\n",
              "      <th>yr_renovated</th>\n",
              "      <th>zipcode</th>\n",
              "      <th>lat</th>\n",
              "      <th>long</th>\n",
              "      <th>sqft_living15</th>\n",
              "      <th>sqft_lot15</th>\n",
              "    </tr>\n",
              "  </thead>\n",
              "  <tbody>\n",
              "    <tr>\n",
              "      <th>0</th>\n",
              "      <td>7129300520</td>\n",
              "      <td>20141013T000000</td>\n",
              "      <td>221900</td>\n",
              "      <td>3</td>\n",
              "      <td>1.00</td>\n",
              "      <td>1180</td>\n",
              "      <td>5650</td>\n",
              "      <td>1.0</td>\n",
              "      <td>0</td>\n",
              "      <td>0</td>\n",
              "      <td>...</td>\n",
              "      <td>7</td>\n",
              "      <td>1180</td>\n",
              "      <td>0</td>\n",
              "      <td>1955</td>\n",
              "      <td>0</td>\n",
              "      <td>98178</td>\n",
              "      <td>47.5112</td>\n",
              "      <td>-122.257</td>\n",
              "      <td>1340</td>\n",
              "      <td>5650</td>\n",
              "    </tr>\n",
              "    <tr>\n",
              "      <th>1</th>\n",
              "      <td>6414100192</td>\n",
              "      <td>20141209T000000</td>\n",
              "      <td>538000</td>\n",
              "      <td>3</td>\n",
              "      <td>2.25</td>\n",
              "      <td>2570</td>\n",
              "      <td>7242</td>\n",
              "      <td>2.0</td>\n",
              "      <td>0</td>\n",
              "      <td>0</td>\n",
              "      <td>...</td>\n",
              "      <td>7</td>\n",
              "      <td>2170</td>\n",
              "      <td>400</td>\n",
              "      <td>1951</td>\n",
              "      <td>1991</td>\n",
              "      <td>98125</td>\n",
              "      <td>47.7210</td>\n",
              "      <td>-122.319</td>\n",
              "      <td>1690</td>\n",
              "      <td>7639</td>\n",
              "    </tr>\n",
              "    <tr>\n",
              "      <th>2</th>\n",
              "      <td>5631500400</td>\n",
              "      <td>20150225T000000</td>\n",
              "      <td>180000</td>\n",
              "      <td>2</td>\n",
              "      <td>1.00</td>\n",
              "      <td>770</td>\n",
              "      <td>10000</td>\n",
              "      <td>1.0</td>\n",
              "      <td>0</td>\n",
              "      <td>0</td>\n",
              "      <td>...</td>\n",
              "      <td>6</td>\n",
              "      <td>770</td>\n",
              "      <td>0</td>\n",
              "      <td>1933</td>\n",
              "      <td>0</td>\n",
              "      <td>98028</td>\n",
              "      <td>47.7379</td>\n",
              "      <td>-122.233</td>\n",
              "      <td>2720</td>\n",
              "      <td>8062</td>\n",
              "    </tr>\n",
              "    <tr>\n",
              "      <th>3</th>\n",
              "      <td>2487200875</td>\n",
              "      <td>20141209T000000</td>\n",
              "      <td>604000</td>\n",
              "      <td>4</td>\n",
              "      <td>3.00</td>\n",
              "      <td>1960</td>\n",
              "      <td>5000</td>\n",
              "      <td>1.0</td>\n",
              "      <td>0</td>\n",
              "      <td>0</td>\n",
              "      <td>...</td>\n",
              "      <td>7</td>\n",
              "      <td>1050</td>\n",
              "      <td>910</td>\n",
              "      <td>1965</td>\n",
              "      <td>0</td>\n",
              "      <td>98136</td>\n",
              "      <td>47.5208</td>\n",
              "      <td>-122.393</td>\n",
              "      <td>1360</td>\n",
              "      <td>5000</td>\n",
              "    </tr>\n",
              "    <tr>\n",
              "      <th>4</th>\n",
              "      <td>1954400510</td>\n",
              "      <td>20150218T000000</td>\n",
              "      <td>510000</td>\n",
              "      <td>3</td>\n",
              "      <td>2.00</td>\n",
              "      <td>1680</td>\n",
              "      <td>8080</td>\n",
              "      <td>1.0</td>\n",
              "      <td>0</td>\n",
              "      <td>0</td>\n",
              "      <td>...</td>\n",
              "      <td>8</td>\n",
              "      <td>1680</td>\n",
              "      <td>0</td>\n",
              "      <td>1987</td>\n",
              "      <td>0</td>\n",
              "      <td>98074</td>\n",
              "      <td>47.6168</td>\n",
              "      <td>-122.045</td>\n",
              "      <td>1800</td>\n",
              "      <td>7503</td>\n",
              "    </tr>\n",
              "  </tbody>\n",
              "</table>\n",
              "<p>5 rows × 21 columns</p>\n",
              "</div>"
            ],
            "text/plain": [
              "           id             date   price  bedrooms  bathrooms  sqft_living  \\\n",
              "0  7129300520  20141013T000000  221900         3       1.00         1180   \n",
              "1  6414100192  20141209T000000  538000         3       2.25         2570   \n",
              "2  5631500400  20150225T000000  180000         2       1.00          770   \n",
              "3  2487200875  20141209T000000  604000         4       3.00         1960   \n",
              "4  1954400510  20150218T000000  510000         3       2.00         1680   \n",
              "\n",
              "   sqft_lot  floors  waterfront  view  ...  grade  sqft_above  sqft_basement  \\\n",
              "0      5650     1.0           0     0  ...      7        1180              0   \n",
              "1      7242     2.0           0     0  ...      7        2170            400   \n",
              "2     10000     1.0           0     0  ...      6         770              0   \n",
              "3      5000     1.0           0     0  ...      7        1050            910   \n",
              "4      8080     1.0           0     0  ...      8        1680              0   \n",
              "\n",
              "   yr_built  yr_renovated  zipcode      lat     long  sqft_living15  \\\n",
              "0      1955             0    98178  47.5112 -122.257           1340   \n",
              "1      1951          1991    98125  47.7210 -122.319           1690   \n",
              "2      1933             0    98028  47.7379 -122.233           2720   \n",
              "3      1965             0    98136  47.5208 -122.393           1360   \n",
              "4      1987             0    98074  47.6168 -122.045           1800   \n",
              "\n",
              "   sqft_lot15  \n",
              "0        5650  \n",
              "1        7639  \n",
              "2        8062  \n",
              "3        5000  \n",
              "4        7503  \n",
              "\n",
              "[5 rows x 21 columns]"
            ]
          },
          "execution_count": 74,
          "metadata": {},
          "output_type": "execute_result"
        }
      ],
      "source": [
        "housing = pd.read_csv(os.path.join(folder,'housing.csv'))\n",
        "print(housing.shape)\n",
        "housing.head(5)"
      ]
    },
    {
      "cell_type": "code",
      "execution_count": null,
      "id": "7e32a360",
      "metadata": {
        "id": "7e32a360",
        "outputId": "abd4d6eb-3c0b-47af-9b37-7713b235501f"
      },
      "outputs": [
        {
          "data": {
            "text/plain": [
              "163"
            ]
          },
          "execution_count": 76,
          "metadata": {},
          "output_type": "execute_result"
        }
      ],
      "source": [
        "housing[housing.waterfront>0]['waterfront'].count()"
      ]
    },
    {
      "cell_type": "markdown",
      "id": "291bcb82",
      "metadata": {
        "id": "291bcb82"
      },
      "source": [
        "##  11) The exercise after this contains questions that are based on the housing dataset. How many houses have 2 floors?\n",
        "\n",
        "    8241 #answer\n",
        "    10680\n",
        "    161\n",
        "    2692\n"
      ]
    },
    {
      "cell_type": "code",
      "execution_count": null,
      "id": "83f417eb",
      "metadata": {
        "id": "83f417eb",
        "outputId": "cdd608f9-5220-4ccb-d8b8-e1151232aa9c"
      },
      "outputs": [
        {
          "data": {
            "text/plain": [
              "8241"
            ]
          },
          "execution_count": 78,
          "metadata": {},
          "output_type": "execute_result"
        }
      ],
      "source": [
        "housing[housing.floors==2]['floors'].count()"
      ]
    },
    {
      "cell_type": "markdown",
      "id": "e860f857",
      "metadata": {
        "id": "e860f857"
      },
      "source": [
        "##  12) The exercise after this contains questions that are based on the housing dataset. How many houses built before 1960 have a waterfront?\n",
        "\n",
        "    7309\n",
        "    92\n",
        "    90\n",
        "    80 #answer\n"
      ]
    },
    {
      "cell_type": "code",
      "execution_count": null,
      "id": "9cc490e6",
      "metadata": {
        "id": "9cc490e6",
        "outputId": "f76e45e6-0141-4870-e050-5ac21b36d5e6"
      },
      "outputs": [
        {
          "data": {
            "text/plain": [
              "80"
            ]
          },
          "execution_count": 82,
          "metadata": {},
          "output_type": "execute_result"
        }
      ],
      "source": [
        "housing[(housing.yr_built<1960) & (housing.waterfront!=0)]['yr_built'].count()"
      ]
    },
    {
      "cell_type": "markdown",
      "id": "1bf7db31",
      "metadata": {
        "id": "1bf7db31"
      },
      "source": [
        "##  13) The exercise after this contains questions that are based on the housing dataset. What is the price of the most expensive house having more than 4 bathrooms?\n",
        "\n",
        "    7700000 #answer\n",
        "    399000\n",
        "    290000\n",
        "    187000\n"
      ]
    },
    {
      "cell_type": "code",
      "execution_count": null,
      "id": "40968ecb",
      "metadata": {
        "id": "40968ecb",
        "outputId": "9655353e-3fde-4945-f9b0-fcd3700ebdfe"
      },
      "outputs": [
        {
          "data": {
            "text/plain": [
              "7252    7700000\n",
              "Name: price, dtype: int64"
            ]
          },
          "execution_count": 84,
          "metadata": {},
          "output_type": "execute_result"
        }
      ],
      "source": [
        "housing[(housing.price==housing.price.max()) & (housing.bathrooms>4)]['price']"
      ]
    },
    {
      "cell_type": "markdown",
      "id": "c0ed8474",
      "metadata": {
        "id": "c0ed8474"
      },
      "source": [
        "##  14) The exercise after this contains questions that are based on the housing dataset. The image shown below shows the boxplot of the price column from the housing dataset. What inferences can you make from the plot?\n",
        "![image-4.png](attachment:image-4.png)\n",
        "\n",
        "    There is no presence of outliers in the price data\n",
        "    The price column is normally distributed.\n",
        "    There might be high chances of price data having null values.\n",
        "    There is a presence of outliers in the price data. #answer\n"
      ]
    },
    {
      "cell_type": "markdown",
      "id": "a51491fd",
      "metadata": {
        "id": "a51491fd"
      },
      "source": [
        "##  15) The exercise after this contains questions that are based on the housing dataset. For instance, if the ‘price’ column consists of outliers, how can you make the data clean and remove the redundancies?\n",
        "\n",
        "    Calculate the p-value and remove the values less than 0.05.\n",
        "    Calculate the correlation coefficient of the price column and remove the values less than the correlation coefficient.\n",
        "    Calculate the Z-score of the price column and remove the values less than the z-score.\n",
        "    Calculate the IQR range and drop the values outside the range. #answer\n",
        ""
      ]
    },
    {
      "cell_type": "markdown",
      "id": "7972d041",
      "metadata": {
        "id": "7972d041"
      },
      "source": [
        "##  16) The exercise after this contains questions that are based on the housing dataset. What are the various parameters that can be used to determine the dependent variables in the housing data to determine the price of the house?\n",
        "\n",
        "    Both of the answers #answer\n",
        "    Correlation coefficients\n",
        "    None of the answers\n",
        "    Z-score\n"
      ]
    },
    {
      "cell_type": "markdown",
      "id": "1b71876b",
      "metadata": {
        "id": "1b71876b"
      },
      "source": [
        "##  17) The exercise after this contains questions that are based on the housing dataset. If we get the r2 score as 0.38, what inferences can we make about the model and its efficiency?\n",
        "\n",
        "    Low difference between observed and fitted values.\n",
        "    The model has 38 wrong predictions and shows poor efficiency.\n",
        "    High difference between observed and fitted values. #answer\n",
        "    The model is showing 0.38% discrepancies in the outcomes.\n"
      ]
    },
    {
      "cell_type": "markdown",
      "id": "3c005865",
      "metadata": {
        "id": "3c005865"
      },
      "source": [
        "##  18) What will be the appropriate metrics for performance evaluation of Linear Regression model?\n",
        "\n",
        "    classification_report\n",
        "    confusion_matrix\n",
        "    accuracy_score\n",
        "    r2_score #answer\n"
      ]
    },
    {
      "cell_type": "markdown",
      "id": "b9d5bfa4",
      "metadata": {
        "id": "b9d5bfa4"
      },
      "source": [
        "##  19) The exercise after this contains questions that are based on the housing dataset. If the Variance Inflation Factor value for a feature is considerably higher than the other features, what can we say about that column/feature?\n",
        "\n",
        "    Both 1 and 2\n",
        "    High multicollinearity #answer\n",
        "    None of the above\n",
        "    Low multicollinearity\n"
      ]
    },
    {
      "cell_type": "markdown",
      "id": "b3fc66f4",
      "metadata": {
        "id": "b3fc66f4"
      },
      "source": [
        "## 20) Use the diamond.csv of size : 53940 x 10 for the questions mentioned below Which feature has the highest positive correlation with the target variable price using Heat map?\n",
        "\n",
        "![Picture1-460x324.png](attachment:Picture1-460x324.png)\n",
        "\n",
        "- X\n",
        "- Carat #answer\n",
        "- Y\n",
        "- Table\n"
      ]
    },
    {
      "cell_type": "code",
      "execution_count": null,
      "id": "76dcb32b",
      "metadata": {
        "id": "76dcb32b",
        "outputId": "17e2337f-3270-46c1-f02f-815149d89ae6"
      },
      "outputs": [
        {
          "name": "stdout",
          "output_type": "stream",
          "text": [
            "(53940, 11)\n"
          ]
        },
        {
          "data": {
            "text/html": [
              "<div>\n",
              "<style scoped>\n",
              "    .dataframe tbody tr th:only-of-type {\n",
              "        vertical-align: middle;\n",
              "    }\n",
              "\n",
              "    .dataframe tbody tr th {\n",
              "        vertical-align: top;\n",
              "    }\n",
              "\n",
              "    .dataframe thead th {\n",
              "        text-align: right;\n",
              "    }\n",
              "</style>\n",
              "<table border=\"1\" class=\"dataframe\">\n",
              "  <thead>\n",
              "    <tr style=\"text-align: right;\">\n",
              "      <th></th>\n",
              "      <th>Unnamed: 0</th>\n",
              "      <th>carat</th>\n",
              "      <th>cut</th>\n",
              "      <th>color</th>\n",
              "      <th>clarity</th>\n",
              "      <th>depth</th>\n",
              "      <th>table</th>\n",
              "      <th>price</th>\n",
              "      <th>x</th>\n",
              "      <th>y</th>\n",
              "      <th>z</th>\n",
              "    </tr>\n",
              "  </thead>\n",
              "  <tbody>\n",
              "    <tr>\n",
              "      <th>0</th>\n",
              "      <td>1</td>\n",
              "      <td>0.23</td>\n",
              "      <td>Ideal</td>\n",
              "      <td>E</td>\n",
              "      <td>SI2</td>\n",
              "      <td>61.5</td>\n",
              "      <td>55.0</td>\n",
              "      <td>326</td>\n",
              "      <td>3.95</td>\n",
              "      <td>3.98</td>\n",
              "      <td>2.43</td>\n",
              "    </tr>\n",
              "    <tr>\n",
              "      <th>1</th>\n",
              "      <td>2</td>\n",
              "      <td>0.21</td>\n",
              "      <td>Premium</td>\n",
              "      <td>E</td>\n",
              "      <td>SI1</td>\n",
              "      <td>59.8</td>\n",
              "      <td>61.0</td>\n",
              "      <td>326</td>\n",
              "      <td>3.89</td>\n",
              "      <td>3.84</td>\n",
              "      <td>2.31</td>\n",
              "    </tr>\n",
              "    <tr>\n",
              "      <th>2</th>\n",
              "      <td>3</td>\n",
              "      <td>0.23</td>\n",
              "      <td>Good</td>\n",
              "      <td>E</td>\n",
              "      <td>VS1</td>\n",
              "      <td>56.9</td>\n",
              "      <td>65.0</td>\n",
              "      <td>327</td>\n",
              "      <td>4.05</td>\n",
              "      <td>4.07</td>\n",
              "      <td>2.31</td>\n",
              "    </tr>\n",
              "    <tr>\n",
              "      <th>3</th>\n",
              "      <td>4</td>\n",
              "      <td>0.29</td>\n",
              "      <td>Premium</td>\n",
              "      <td>I</td>\n",
              "      <td>VS2</td>\n",
              "      <td>62.4</td>\n",
              "      <td>58.0</td>\n",
              "      <td>334</td>\n",
              "      <td>4.20</td>\n",
              "      <td>4.23</td>\n",
              "      <td>2.63</td>\n",
              "    </tr>\n",
              "    <tr>\n",
              "      <th>4</th>\n",
              "      <td>5</td>\n",
              "      <td>0.31</td>\n",
              "      <td>Good</td>\n",
              "      <td>J</td>\n",
              "      <td>SI2</td>\n",
              "      <td>63.3</td>\n",
              "      <td>58.0</td>\n",
              "      <td>335</td>\n",
              "      <td>4.34</td>\n",
              "      <td>4.35</td>\n",
              "      <td>2.75</td>\n",
              "    </tr>\n",
              "  </tbody>\n",
              "</table>\n",
              "</div>"
            ],
            "text/plain": [
              "   Unnamed: 0  carat      cut color clarity  depth  table  price     x     y  \\\n",
              "0           1   0.23    Ideal     E     SI2   61.5   55.0    326  3.95  3.98   \n",
              "1           2   0.21  Premium     E     SI1   59.8   61.0    326  3.89  3.84   \n",
              "2           3   0.23     Good     E     VS1   56.9   65.0    327  4.05  4.07   \n",
              "3           4   0.29  Premium     I     VS2   62.4   58.0    334  4.20  4.23   \n",
              "4           5   0.31     Good     J     SI2   63.3   58.0    335  4.34  4.35   \n",
              "\n",
              "      z  \n",
              "0  2.43  \n",
              "1  2.31  \n",
              "2  2.31  \n",
              "3  2.63  \n",
              "4  2.75  "
            ]
          },
          "execution_count": 85,
          "metadata": {},
          "output_type": "execute_result"
        }
      ],
      "source": [
        "diamond = pd.read_csv(os.path.join(folder,'Diamond.csv'))\n",
        "print(diamond.shape)\n",
        "diamond.head(5)"
      ]
    },
    {
      "cell_type": "code",
      "execution_count": null,
      "id": "cb964a01",
      "metadata": {
        "id": "cb964a01",
        "outputId": "4f63273c-5f2b-45ad-96b4-6a2813b8b8ec"
      },
      "outputs": [
        {
          "data": {
            "text/plain": [
              "<AxesSubplot: >"
            ]
          },
          "execution_count": 87,
          "metadata": {},
          "output_type": "execute_result"
        },
        {
          "data": {
            "image/png": "[encoded data removed]",
            "text/plain": [
              "<Figure size 640x480 with 2 Axes>"
            ]
          },
          "metadata": {},
          "output_type": "display_data"
        }
      ],
      "source": [
        "import seaborn as sns\n",
        "sns.heatmap(diamond.corr(), annot=True)"
      ]
    },
    {
      "cell_type": "markdown",
      "id": "668c0091",
      "metadata": {
        "id": "668c0091"
      },
      "source": [
        "##  21) Use the diamond.csv of size : 53940 x 10 for the questions mentioned below How many unique values present in the feature clarity?\n",
        "\n",
        "    7\n",
        "    6\n",
        "    9\n",
        "    8 #answer\n"
      ]
    },
    {
      "cell_type": "code",
      "execution_count": null,
      "id": "04f7d929",
      "metadata": {
        "id": "04f7d929",
        "outputId": "ce391918-5a67-47bc-948d-f53a60765902"
      },
      "outputs": [
        {
          "data": {
            "text/plain": [
              "8"
            ]
          },
          "execution_count": 90,
          "metadata": {},
          "output_type": "execute_result"
        }
      ],
      "source": [
        "diamond.clarity.nunique()"
      ]
    },
    {
      "cell_type": "markdown",
      "id": "94f0ff93",
      "metadata": {
        "id": "94f0ff93"
      },
      "source": [
        "##  22) Use the diamond.csv of size : 53940 x 10 for the questions mentioned below Which category in the feature cut has more records?\n",
        "\n",
        "    Fair\n",
        "    Very Good\n",
        "    Ideal #answer\n",
        "    Premium\n"
      ]
    },
    {
      "cell_type": "code",
      "execution_count": null,
      "id": "1e1a4533",
      "metadata": {
        "id": "1e1a4533",
        "outputId": "ea64b88e-fa2a-467b-fcbe-a80505aa4a42"
      },
      "outputs": [
        {
          "data": {
            "text/plain": [
              "Fair          1610\n",
              "Good          4906\n",
              "Very Good    12082\n",
              "Premium      13791\n",
              "Ideal        21551\n",
              "Name: cut, dtype: int64"
            ]
          },
          "execution_count": 93,
          "metadata": {},
          "output_type": "execute_result"
        }
      ],
      "source": [
        "diamond.cut.value_counts().sort_values()"
      ]
    },
    {
      "cell_type": "markdown",
      "id": "385518b5",
      "metadata": {
        "id": "385518b5"
      },
      "source": [
        "## 23) Use the diamond.csv of size : 53940 x 10 for the questions mentioned below Which color diamond has the highest sum price?\n",
        "\n",
        "    E\n",
        "    F\n",
        "    H\n",
        "    G #answer\n"
      ]
    },
    {
      "cell_type": "code",
      "execution_count": null,
      "id": "0cca9b12",
      "metadata": {
        "id": "0cca9b12",
        "outputId": "ebb4b35c-26b2-4508-95f9-1073b491c088"
      },
      "outputs": [
        {
          "data": {
            "text/plain": [
              "color\n",
              "J    14949281\n",
              "D    21476439\n",
              "I    27608146\n",
              "E    30142944\n",
              "F    35542866\n",
              "H    37257301\n",
              "G    45158240\n",
              "Name: price, dtype: int64"
            ]
          },
          "execution_count": 97,
          "metadata": {},
          "output_type": "execute_result"
        }
      ],
      "source": [
        "diamond.groupby('color')['price'].sum().sort_values()"
      ]
    },
    {
      "cell_type": "markdown",
      "id": "4630802a",
      "metadata": {
        "id": "4630802a"
      },
      "source": [
        "##  24) Use the diamond.csv of size : 53940 x 10 for the questions mentioned below Which of the below statements is correct with respect to the column price?\n",
        "\n",
        "![Picture2-460x330.png](attachment:Picture2-460x330.png)\n",
        "\n",
        "    Price Decreases Frequency Increases #answer\n",
        "    None of these\n",
        "    Price Increases Frequency Increases\n",
        "    Frequency is approximately same in all prices\n"
      ]
    },
    {
      "cell_type": "markdown",
      "id": "596782cc",
      "metadata": {
        "id": "596782cc"
      },
      "source": [
        "##  25) Use the diamond.csv of size : 53940 x 10 for the questions mentioned below Which of the combination of Color and Clarity have a high mean price value?\n",
        "\n",
        "    E&SI2\n",
        "    D & IF #answer\n",
        "    H & VVS1\n",
        "    J & VS1\n"
      ]
    },
    {
      "cell_type": "code",
      "execution_count": null,
      "id": "114e67e8",
      "metadata": {
        "id": "114e67e8",
        "outputId": "c2037ebc-5c64-4cde-a2e9-ae91d3ef5aa8"
      },
      "outputs": [
        {
          "data": {
            "text/html": [
              "<div>\n",
              "<style scoped>\n",
              "    .dataframe tbody tr th:only-of-type {\n",
              "        vertical-align: middle;\n",
              "    }\n",
              "\n",
              "    .dataframe tbody tr th {\n",
              "        vertical-align: top;\n",
              "    }\n",
              "\n",
              "    .dataframe thead th {\n",
              "        text-align: right;\n",
              "    }\n",
              "</style>\n",
              "<table border=\"1\" class=\"dataframe\">\n",
              "  <thead>\n",
              "    <tr style=\"text-align: right;\">\n",
              "      <th></th>\n",
              "      <th>color</th>\n",
              "      <th>clarity</th>\n",
              "      <th>price</th>\n",
              "    </tr>\n",
              "  </thead>\n",
              "  <tbody>\n",
              "    <tr>\n",
              "      <th>1</th>\n",
              "      <td>D</td>\n",
              "      <td>IF</td>\n",
              "      <td>8307.369863</td>\n",
              "    </tr>\n",
              "    <tr>\n",
              "      <th>43</th>\n",
              "      <td>I</td>\n",
              "      <td>SI2</td>\n",
              "      <td>7002.649123</td>\n",
              "    </tr>\n",
              "    <tr>\n",
              "      <th>51</th>\n",
              "      <td>J</td>\n",
              "      <td>SI2</td>\n",
              "      <td>6520.958246</td>\n",
              "    </tr>\n",
              "    <tr>\n",
              "      <th>35</th>\n",
              "      <td>H</td>\n",
              "      <td>SI2</td>\n",
              "      <td>6099.895074</td>\n",
              "    </tr>\n",
              "    <tr>\n",
              "      <th>45</th>\n",
              "      <td>I</td>\n",
              "      <td>VS2</td>\n",
              "      <td>5690.505560</td>\n",
              "    </tr>\n",
              "  </tbody>\n",
              "</table>\n",
              "</div>"
            ],
            "text/plain": [
              "   color clarity        price\n",
              "1      D      IF  8307.369863\n",
              "43     I     SI2  7002.649123\n",
              "51     J     SI2  6520.958246\n",
              "35     H     SI2  6099.895074\n",
              "45     I     VS2  5690.505560"
            ]
          },
          "execution_count": 110,
          "metadata": {},
          "output_type": "execute_result"
        }
      ],
      "source": [
        "diamond[['color','clarity','price']].groupby(['color','clarity']).mean().reset_index().sort_values('price',ascending=False)[:5]"
      ]
    },
    {
      "cell_type": "markdown",
      "id": "fe6c80ba",
      "metadata": {
        "id": "fe6c80ba"
      },
      "source": [
        "##  26) Use the diamond.csv of size : 53940 x 10 for the questions mentioned below How many records are having value as 0 in all the features x, y, z?\n",
        "\n",
        "    7 #answer\n",
        "    42\n",
        "    5\n",
        "    23\n"
      ]
    },
    {
      "cell_type": "code",
      "execution_count": null,
      "id": "400ae564",
      "metadata": {
        "id": "400ae564",
        "outputId": "54de2652-4c40-40e6-e4f5-fe190c6a7dc8"
      },
      "outputs": [
        {
          "data": {
            "text/plain": [
              "Unnamed: 0    7\n",
              "carat         7\n",
              "cut           7\n",
              "color         7\n",
              "clarity       7\n",
              "depth         7\n",
              "table         7\n",
              "price         7\n",
              "x             7\n",
              "y             7\n",
              "z             7\n",
              "dtype: int64"
            ]
          },
          "execution_count": 117,
          "metadata": {},
          "output_type": "execute_result"
        }
      ],
      "source": [
        "diamond[(diamond.x==0) & (diamond.y==0) & (diamond.z==0)].count()"
      ]
    },
    {
      "cell_type": "markdown",
      "id": "57c97f11",
      "metadata": {
        "id": "57c97f11"
      },
      "source": [
        "##  27) Use the ToyotaCorollaX.csv of size : 1436 x 11 for the questions mentioned below The feature Fuel Type has 100 null values. Choose the right option to fill the null values?\n",
        "\n",
        "    None of the options\n",
        "    Petrol #answer\n",
        "    CNG\n",
        "    Diesel\n"
      ]
    },
    {
      "cell_type": "code",
      "execution_count": null,
      "id": "eeee1668",
      "metadata": {
        "id": "eeee1668",
        "outputId": "e2fc71d0-936f-45d6-8b09-359c97e611e5"
      },
      "outputs": [
        {
          "name": "stdout",
          "output_type": "stream",
          "text": [
            "(1436, 11)\n"
          ]
        },
        {
          "data": {
            "text/html": [
              "<div>\n",
              "<style scoped>\n",
              "    .dataframe tbody tr th:only-of-type {\n",
              "        vertical-align: middle;\n",
              "    }\n",
              "\n",
              "    .dataframe tbody tr th {\n",
              "        vertical-align: top;\n",
              "    }\n",
              "\n",
              "    .dataframe thead th {\n",
              "        text-align: right;\n",
              "    }\n",
              "</style>\n",
              "<table border=\"1\" class=\"dataframe\">\n",
              "  <thead>\n",
              "    <tr style=\"text-align: right;\">\n",
              "      <th></th>\n",
              "      <th>Unnamed: 0</th>\n",
              "      <th>Price</th>\n",
              "      <th>Age</th>\n",
              "      <th>KM</th>\n",
              "      <th>FuelType</th>\n",
              "      <th>HP</th>\n",
              "      <th>MetColor</th>\n",
              "      <th>Automatic</th>\n",
              "      <th>CC</th>\n",
              "      <th>Doors</th>\n",
              "      <th>Weight</th>\n",
              "    </tr>\n",
              "  </thead>\n",
              "  <tbody>\n",
              "    <tr>\n",
              "      <th>0</th>\n",
              "      <td>0</td>\n",
              "      <td>13500</td>\n",
              "      <td>23.0</td>\n",
              "      <td>46986</td>\n",
              "      <td>Diesel</td>\n",
              "      <td>90</td>\n",
              "      <td>1.0</td>\n",
              "      <td>0</td>\n",
              "      <td>2000</td>\n",
              "      <td>3</td>\n",
              "      <td>1165</td>\n",
              "    </tr>\n",
              "    <tr>\n",
              "      <th>1</th>\n",
              "      <td>1</td>\n",
              "      <td>13750</td>\n",
              "      <td>23.0</td>\n",
              "      <td>72937</td>\n",
              "      <td>Diesel</td>\n",
              "      <td>90</td>\n",
              "      <td>1.0</td>\n",
              "      <td>0</td>\n",
              "      <td>2000</td>\n",
              "      <td>3</td>\n",
              "      <td>1165</td>\n",
              "    </tr>\n",
              "    <tr>\n",
              "      <th>2</th>\n",
              "      <td>2</td>\n",
              "      <td>13950</td>\n",
              "      <td>24.0</td>\n",
              "      <td>41711</td>\n",
              "      <td>Diesel</td>\n",
              "      <td>90</td>\n",
              "      <td>NaN</td>\n",
              "      <td>0</td>\n",
              "      <td>2000</td>\n",
              "      <td>3</td>\n",
              "      <td>1165</td>\n",
              "    </tr>\n",
              "    <tr>\n",
              "      <th>3</th>\n",
              "      <td>3</td>\n",
              "      <td>14950</td>\n",
              "      <td>26.0</td>\n",
              "      <td>48000</td>\n",
              "      <td>Diesel</td>\n",
              "      <td>90</td>\n",
              "      <td>0.0</td>\n",
              "      <td>0</td>\n",
              "      <td>2000</td>\n",
              "      <td>3</td>\n",
              "      <td>1165</td>\n",
              "    </tr>\n",
              "    <tr>\n",
              "      <th>4</th>\n",
              "      <td>4</td>\n",
              "      <td>13750</td>\n",
              "      <td>30.0</td>\n",
              "      <td>38500</td>\n",
              "      <td>Diesel</td>\n",
              "      <td>90</td>\n",
              "      <td>0.0</td>\n",
              "      <td>0</td>\n",
              "      <td>2000</td>\n",
              "      <td>3</td>\n",
              "      <td>1170</td>\n",
              "    </tr>\n",
              "  </tbody>\n",
              "</table>\n",
              "</div>"
            ],
            "text/plain": [
              "   Unnamed: 0  Price   Age     KM FuelType  HP  MetColor  Automatic    CC  \\\n",
              "0           0  13500  23.0  46986   Diesel  90       1.0          0  2000   \n",
              "1           1  13750  23.0  72937   Diesel  90       1.0          0  2000   \n",
              "2           2  13950  24.0  41711   Diesel  90       NaN          0  2000   \n",
              "3           3  14950  26.0  48000   Diesel  90       0.0          0  2000   \n",
              "4           4  13750  30.0  38500   Diesel  90       0.0          0  2000   \n",
              "\n",
              "   Doors  Weight  \n",
              "0      3    1165  \n",
              "1      3    1165  \n",
              "2      3    1165  \n",
              "3      3    1165  \n",
              "4      3    1170  "
            ]
          },
          "execution_count": 118,
          "metadata": {},
          "output_type": "execute_result"
        }
      ],
      "source": [
        "toyota = pd.read_csv(os.path.join(folder,'ToyotaCorolla.csv'))\n",
        "print(toyota.shape)\n",
        "toyota.head(5)"
      ]
    },
    {
      "cell_type": "code",
      "execution_count": null,
      "id": "92281c73",
      "metadata": {
        "id": "92281c73",
        "outputId": "decbeeea-c4d8-401b-d304-5f2b8155af67"
      },
      "outputs": [
        {
          "name": "stdout",
          "output_type": "stream",
          "text": [
            "100\n"
          ]
        },
        {
          "data": {
            "text/plain": [
              "0    Petrol\n",
              "Name: FuelType, dtype: object"
            ]
          },
          "execution_count": 123,
          "metadata": {},
          "output_type": "execute_result"
        }
      ],
      "source": [
        "print(toyota.FuelType.isna().sum())\n",
        "toyota.FuelType.mode()"
      ]
    },
    {
      "cell_type": "markdown",
      "id": "d12a6326",
      "metadata": {
        "id": "d12a6326"
      },
      "source": [
        "##  28) Use the ToyotaCorollaX.csv of size : 1436 x 11 for the questions mentioned below Choose the right encoding type for the feature Fuel Type?\n",
        "\n",
        "    Target encoding\n",
        "    One-hot encoding #answer\n",
        "    Ordinal encoding\n",
        "    None of the options\n"
      ]
    },
    {
      "cell_type": "code",
      "execution_count": null,
      "id": "8b81ff82",
      "metadata": {
        "id": "8b81ff82",
        "outputId": "e188cebf-6bb6-4333-98a5-57889b9ad252"
      },
      "outputs": [
        {
          "data": {
            "text/plain": [
              "Petrol    1177\n",
              "Diesel     144\n",
              "CNG         15\n",
              "Name: FuelType, dtype: int64"
            ]
          },
          "execution_count": 124,
          "metadata": {},
          "output_type": "execute_result"
        }
      ],
      "source": [
        "toyota.FuelType.value_counts()"
      ]
    },
    {
      "cell_type": "markdown",
      "id": "b0590f8b",
      "metadata": {
        "id": "b0590f8b"
      },
      "source": [
        "##  29) Use the ToyotaCorollaX.csv of size : 1436 x 11 for the questions mentioned below Choose the correct CC value having the second lowest price?\n",
        "\n",
        "    1600\n",
        "    2000 #answer\n",
        "    1300\n",
        "    1800\n"
      ]
    },
    {
      "cell_type": "code",
      "execution_count": null,
      "id": "43fdd92c",
      "metadata": {
        "id": "43fdd92c",
        "outputId": "8c32692f-dc19-4881-b73a-3a3c9e0e5de2"
      },
      "outputs": [
        {
          "data": {
            "text/html": [
              "<div>\n",
              "<style scoped>\n",
              "    .dataframe tbody tr th:only-of-type {\n",
              "        vertical-align: middle;\n",
              "    }\n",
              "\n",
              "    .dataframe tbody tr th {\n",
              "        vertical-align: top;\n",
              "    }\n",
              "\n",
              "    .dataframe thead th {\n",
              "        text-align: right;\n",
              "    }\n",
              "</style>\n",
              "<table border=\"1\" class=\"dataframe\">\n",
              "  <thead>\n",
              "    <tr style=\"text-align: right;\">\n",
              "      <th></th>\n",
              "      <th>Unnamed: 0</th>\n",
              "      <th>Price</th>\n",
              "      <th>Age</th>\n",
              "      <th>KM</th>\n",
              "      <th>FuelType</th>\n",
              "      <th>HP</th>\n",
              "      <th>MetColor</th>\n",
              "      <th>Automatic</th>\n",
              "      <th>CC</th>\n",
              "      <th>Doors</th>\n",
              "      <th>Weight</th>\n",
              "    </tr>\n",
              "  </thead>\n",
              "  <tbody>\n",
              "    <tr>\n",
              "      <th>111</th>\n",
              "      <td>111</td>\n",
              "      <td>31275</td>\n",
              "      <td>4.0</td>\n",
              "      <td>1500</td>\n",
              "      <td>Diesel</td>\n",
              "      <td>116</td>\n",
              "      <td>1.0</td>\n",
              "      <td>0</td>\n",
              "      <td>2000</td>\n",
              "      <td>5</td>\n",
              "      <td>1480</td>\n",
              "    </tr>\n",
              "    <tr>\n",
              "      <th>110</th>\n",
              "      <td>110</td>\n",
              "      <td>31000</td>\n",
              "      <td>4.0</td>\n",
              "      <td>4000</td>\n",
              "      <td>Diesel</td>\n",
              "      <td>116</td>\n",
              "      <td>1.0</td>\n",
              "      <td>0</td>\n",
              "      <td>2000</td>\n",
              "      <td>5</td>\n",
              "      <td>1480</td>\n",
              "    </tr>\n",
              "    <tr>\n",
              "      <th>115</th>\n",
              "      <td>115</td>\n",
              "      <td>24990</td>\n",
              "      <td>8.0</td>\n",
              "      <td>6000</td>\n",
              "      <td>Diesel</td>\n",
              "      <td>90</td>\n",
              "      <td>1.0</td>\n",
              "      <td>0</td>\n",
              "      <td>2000</td>\n",
              "      <td>5</td>\n",
              "      <td>1280</td>\n",
              "    </tr>\n",
              "    <tr>\n",
              "      <th>112</th>\n",
              "      <td>112</td>\n",
              "      <td>24950</td>\n",
              "      <td>8.0</td>\n",
              "      <td>13253</td>\n",
              "      <td>Diesel</td>\n",
              "      <td>116</td>\n",
              "      <td>1.0</td>\n",
              "      <td>0</td>\n",
              "      <td>2000</td>\n",
              "      <td>5</td>\n",
              "      <td>1320</td>\n",
              "    </tr>\n",
              "    <tr>\n",
              "      <th>113</th>\n",
              "      <td>113</td>\n",
              "      <td>24950</td>\n",
              "      <td>8.0</td>\n",
              "      <td>13253</td>\n",
              "      <td>Diesel</td>\n",
              "      <td>116</td>\n",
              "      <td>1.0</td>\n",
              "      <td>0</td>\n",
              "      <td>2000</td>\n",
              "      <td>5</td>\n",
              "      <td>1320</td>\n",
              "    </tr>\n",
              "    <tr>\n",
              "      <th>...</th>\n",
              "      <td>...</td>\n",
              "      <td>...</td>\n",
              "      <td>...</td>\n",
              "      <td>...</td>\n",
              "      <td>...</td>\n",
              "      <td>...</td>\n",
              "      <td>...</td>\n",
              "      <td>...</td>\n",
              "      <td>...</td>\n",
              "      <td>...</td>\n",
              "      <td>...</td>\n",
              "    </tr>\n",
              "    <tr>\n",
              "      <th>402</th>\n",
              "      <td>402</td>\n",
              "      <td>5150</td>\n",
              "      <td>56.0</td>\n",
              "      <td>113997</td>\n",
              "      <td>Diesel</td>\n",
              "      <td>72</td>\n",
              "      <td>1.0</td>\n",
              "      <td>0</td>\n",
              "      <td>2000</td>\n",
              "      <td>5</td>\n",
              "      <td>1135</td>\n",
              "    </tr>\n",
              "    <tr>\n",
              "      <th>192</th>\n",
              "      <td>192</td>\n",
              "      <td>4750</td>\n",
              "      <td>44.0</td>\n",
              "      <td>131273</td>\n",
              "      <td>Diesel</td>\n",
              "      <td>69</td>\n",
              "      <td>1.0</td>\n",
              "      <td>0</td>\n",
              "      <td>1800</td>\n",
              "      <td>5</td>\n",
              "      <td>1110</td>\n",
              "    </tr>\n",
              "    <tr>\n",
              "      <th>393</th>\n",
              "      <td>393</td>\n",
              "      <td>4450</td>\n",
              "      <td>56.0</td>\n",
              "      <td>129155</td>\n",
              "      <td>Diesel</td>\n",
              "      <td>69</td>\n",
              "      <td>0.0</td>\n",
              "      <td>0</td>\n",
              "      <td>1800</td>\n",
              "      <td>5</td>\n",
              "      <td>1110</td>\n",
              "    </tr>\n",
              "    <tr>\n",
              "      <th>1048</th>\n",
              "      <td>1048</td>\n",
              "      <td>4400</td>\n",
              "      <td>74.0</td>\n",
              "      <td>203254</td>\n",
              "      <td>Diesel</td>\n",
              "      <td>72</td>\n",
              "      <td>1.0</td>\n",
              "      <td>0</td>\n",
              "      <td>2000</td>\n",
              "      <td>3</td>\n",
              "      <td>1135</td>\n",
              "    </tr>\n",
              "    <tr>\n",
              "      <th>191</th>\n",
              "      <td>191</td>\n",
              "      <td>4350</td>\n",
              "      <td>44.0</td>\n",
              "      <td>158320</td>\n",
              "      <td>Diesel</td>\n",
              "      <td>69</td>\n",
              "      <td>0.0</td>\n",
              "      <td>0</td>\n",
              "      <td>1800</td>\n",
              "      <td>5</td>\n",
              "      <td>1110</td>\n",
              "    </tr>\n",
              "  </tbody>\n",
              "</table>\n",
              "<p>1435 rows × 11 columns</p>\n",
              "</div>"
            ],
            "text/plain": [
              "      Unnamed: 0  Price   Age      KM FuelType   HP  MetColor  Automatic  \\\n",
              "111          111  31275   4.0    1500   Diesel  116       1.0          0   \n",
              "110          110  31000   4.0    4000   Diesel  116       1.0          0   \n",
              "115          115  24990   8.0    6000   Diesel   90       1.0          0   \n",
              "112          112  24950   8.0   13253   Diesel  116       1.0          0   \n",
              "113          113  24950   8.0   13253   Diesel  116       1.0          0   \n",
              "...          ...    ...   ...     ...      ...  ...       ...        ...   \n",
              "402          402   5150  56.0  113997   Diesel   72       1.0          0   \n",
              "192          192   4750  44.0  131273   Diesel   69       1.0          0   \n",
              "393          393   4450  56.0  129155   Diesel   69       0.0          0   \n",
              "1048        1048   4400  74.0  203254   Diesel   72       1.0          0   \n",
              "191          191   4350  44.0  158320   Diesel   69       0.0          0   \n",
              "\n",
              "        CC  Doors  Weight  \n",
              "111   2000      5    1480  \n",
              "110   2000      5    1480  \n",
              "115   2000      5    1280  \n",
              "112   2000      5    1320  \n",
              "113   2000      5    1320  \n",
              "...    ...    ...     ...  \n",
              "402   2000      5    1135  \n",
              "192   1800      5    1110  \n",
              "393   1800      5    1110  \n",
              "1048  2000      3    1135  \n",
              "191   1800      5    1110  \n",
              "\n",
              "[1435 rows x 11 columns]"
            ]
          },
          "execution_count": 129,
          "metadata": {},
          "output_type": "execute_result"
        }
      ],
      "source": [
        "toyota[toyota.Price<toyota.Price.max()].sort_values('Price',ascending=False)"
      ]
    },
    {
      "cell_type": "markdown",
      "id": "a2d5b0da",
      "metadata": {
        "id": "a2d5b0da"
      },
      "source": [
        "##  30) Use the ToyotaCorollaX.csv of size : 1436 x 11 for the questions mentioned below Choose the correct Doors type having the second highest mean price?\n",
        "\n",
        "    5\n",
        "    2\n",
        "    4\n",
        "    3 #answer\n"
      ]
    },
    {
      "cell_type": "code",
      "execution_count": null,
      "id": "ff5e3eb1",
      "metadata": {
        "id": "ff5e3eb1",
        "outputId": "cf38b887-434b-482e-ed89-7bbcedd5d091"
      },
      "outputs": [
        {
          "data": {
            "text/plain": [
              "Doors\n",
              "5    11503.209199\n",
              "3    10107.342444\n",
              "4     9806.768116\n",
              "2     8100.000000\n",
              "Name: Price, dtype: float64"
            ]
          },
          "execution_count": 134,
          "metadata": {},
          "output_type": "execute_result"
        }
      ],
      "source": [
        "toyota.groupby('Doors')['Price'].mean().sort_values(ascending=False)"
      ]
    },
    {
      "cell_type": "markdown",
      "id": "885aa2ec",
      "metadata": {
        "id": "885aa2ec"
      },
      "source": [
        "##  31) Use the ToyotaCorollaX.csv of size : 1436 x 11 for the questions mentioned below Consider the coefficients for the features KM, HP, Doors are -0.0369, 89.3144, 1012.8434 respectively, choose the right absolute error for the below given data? KM HP Doors Price 6000 90 5 24990\n",
        "\n",
        "    -14253.88\n",
        "    12108.88 #answer - not sure how\n",
        "    -12108.88\n",
        "    14253.88\n"
      ]
    },
    {
      "cell_type": "code",
      "execution_count": null,
      "id": "eff7a48d",
      "metadata": {
        "id": "eff7a48d",
        "outputId": "c1650582-e257-4acc-b5fa-083798d32234"
      },
      "outputs": [
        {
          "data": {
            "text/html": [
              "<div>\n",
              "<style scoped>\n",
              "    .dataframe tbody tr th:only-of-type {\n",
              "        vertical-align: middle;\n",
              "    }\n",
              "\n",
              "    .dataframe tbody tr th {\n",
              "        vertical-align: top;\n",
              "    }\n",
              "\n",
              "    .dataframe thead th {\n",
              "        text-align: right;\n",
              "    }\n",
              "</style>\n",
              "<table border=\"1\" class=\"dataframe\">\n",
              "  <thead>\n",
              "    <tr style=\"text-align: right;\">\n",
              "      <th></th>\n",
              "      <th>KM</th>\n",
              "      <th>HP</th>\n",
              "      <th>Doors</th>\n",
              "      <th>Price</th>\n",
              "    </tr>\n",
              "  </thead>\n",
              "  <tbody>\n",
              "    <tr>\n",
              "      <th>KM</th>\n",
              "      <td>1.000000</td>\n",
              "      <td>-0.333538</td>\n",
              "      <td>-0.036197</td>\n",
              "      <td>-0.569960</td>\n",
              "    </tr>\n",
              "    <tr>\n",
              "      <th>HP</th>\n",
              "      <td>-0.333538</td>\n",
              "      <td>1.000000</td>\n",
              "      <td>0.092424</td>\n",
              "      <td>0.314990</td>\n",
              "    </tr>\n",
              "    <tr>\n",
              "      <th>Doors</th>\n",
              "      <td>-0.036197</td>\n",
              "      <td>0.092424</td>\n",
              "      <td>1.000000</td>\n",
              "      <td>0.185326</td>\n",
              "    </tr>\n",
              "    <tr>\n",
              "      <th>Price</th>\n",
              "      <td>-0.569960</td>\n",
              "      <td>0.314990</td>\n",
              "      <td>0.185326</td>\n",
              "      <td>1.000000</td>\n",
              "    </tr>\n",
              "  </tbody>\n",
              "</table>\n",
              "</div>"
            ],
            "text/plain": [
              "             KM        HP     Doors     Price\n",
              "KM     1.000000 -0.333538 -0.036197 -0.569960\n",
              "HP    -0.333538  1.000000  0.092424  0.314990\n",
              "Doors -0.036197  0.092424  1.000000  0.185326\n",
              "Price -0.569960  0.314990  0.185326  1.000000"
            ]
          },
          "execution_count": 138,
          "metadata": {},
          "output_type": "execute_result"
        }
      ],
      "source": [
        "toyota[['KM','HP','Doors','Price']].corr()"
      ]
    },
    {
      "cell_type": "markdown",
      "id": "a833cd24",
      "metadata": {
        "id": "a833cd24"
      },
      "source": [
        "##  32) Use the ToyotaCorollaX.csv of size : 1436 x 11 for the questions mentioned below Choose the skew type for the given graph?\n",
        "\n",
        "![Picture3.png](attachment:Picture3.png)\n",
        "\n",
        "    Right Skewed or Negatively Skewed data\n",
        "    Left Skewed or Negatively Skewed data\n",
        "    Left Skewed or Positively Skewed data\n",
        "    Right Skewed or Positively Skewed data #answer\n"
      ]
    },
    {
      "cell_type": "markdown",
      "id": "f4f3b8b3",
      "metadata": {
        "id": "f4f3b8b3"
      },
      "source": [
        "##  33) Use the ToyotaCorollaX.csv of size : 1436 x 11 for the questions mentioned below Choose the correct feature having less correlation to the target variable price from below data?\n",
        "\n",
        "![Picture4-460x51.png](attachment:Picture4-460x51.png)\n",
        "    \n",
        "    Weight\n",
        "    Doors\n",
        "    Age\n",
        "    CC #answer\n",
        ""
      ]
    },
    {
      "cell_type": "markdown",
      "id": "d3af43f8",
      "metadata": {
        "id": "d3af43f8"
      },
      "source": [
        "##  34) Use the ToyotaCorollaX.csv of size : 1436 x 11 for the questions mentioned below Choose the best option to deal with the outliers in the below boxplot for feature HP?\n",
        "![Picture-5-460x341.png](attachment:Picture-5-460x341.png)\n",
        "\n",
        "    Remove the outlier record as the count is negligible #answer\n",
        "    The feature HP is of numeric type so replace it with Mean value.\n",
        "    No outliers present as per the boxplot.\n",
        "    The feature HP has only 12 unique values so replace it with Median value.\n"
      ]
    },
    {
      "cell_type": "markdown",
      "id": "ea3f279c",
      "metadata": {
        "id": "ea3f279c"
      },
      "source": [
        "##  35) Use the ToyotaCorollaX.csv of size : 1436 x 11 for the questions mentioned below Choose the correct correlation between Age and KM with the below scatterplot?\n",
        "![Picture-6-460x326.png](attachment:Picture-6-460x326.png)\n",
        "\n",
        "    Weak Negative Correlation\n",
        "    Weak Positive Correlation #answer\n",
        "    Strong Negative Correlation\n",
        "    Strong Positive Correlation\n"
      ]
    },
    {
      "cell_type": "code",
      "execution_count": null,
      "id": "f23acb57",
      "metadata": {
        "id": "f23acb57"
      },
      "outputs": [],
      "source": []
    },
    {
      "cell_type": "code",
      "execution_count": null,
      "id": "e175bf28",
      "metadata": {
        "id": "e175bf28"
      },
      "outputs": [],
      "source": []
    },
    {
      "cell_type": "code",
      "execution_count": null,
      "id": "1d83c2b4",
      "metadata": {
        "id": "1d83c2b4"
      },
      "outputs": [],
      "source": []
    },
    {
      "cell_type": "code",
      "execution_count": null,
      "id": "f7f15f21",
      "metadata": {
        "id": "f7f15f21"
      },
      "outputs": [],
      "source": []
    },
    {
      "cell_type": "code",
      "execution_count": null,
      "id": "1110ce86",
      "metadata": {
        "id": "1110ce86"
      },
      "outputs": [],
      "source": []
    },
    {
      "cell_type": "code",
      "execution_count": null,
      "id": "73cc0804",
      "metadata": {
        "id": "73cc0804"
      },
      "outputs": [],
      "source": []
    }
  ],
  "metadata": {
    "kernelspec": {
      "display_name": "Python 3 (ipykernel)",
      "language": "python",
      "name": "python3"
    },
    "language_info": {
      "codemirror_mode": {
        "name": "ipython",
        "version": 3
      },
      "file_extension": ".py",
      "mimetype": "text/x-python",
      "name": "python",
      "nbconvert_exporter": "python",
      "pygments_lexer": "ipython3",
      "version": "3.10.6"
    },
    "colab": {
      "provenance": [],
      "include_colab_link": true
    }
  },
  "nbformat": 4,
  "nbformat_minor": 5
}